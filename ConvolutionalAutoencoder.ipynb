{
 "cells": [
  {
   "cell_type": "code",
   "execution_count": null,
   "metadata": {},
   "outputs": [],
   "source": [
    "import numpy as np\n",
    "from keras.layers import Input, Dense, Conv2D, MaxPooling2D, UpSampling2D\n",
    "from keras.models import Model\n",
    "from keras import backend as K\n",
    "from keras.datasets import mnist\n",
    "import matplotlib.pyplot as plt\n",
    "from keras.callbacks import TensorBoard"
   ]
  },
  {
   "cell_type": "code",
   "execution_count": null,
   "metadata": {},
   "outputs": [],
   "source": [
    "input_img = Input(shape = (28, 28, 1))\n",
    "# encoder\n",
    "X = Conv2D(16, (3, 3), activation = 'relu', padding = 'same')(input_img)\n",
    "X = MaxPooling2D((2, 2), padding = 'same')(X)\n",
    "X = Conv2D(8, (3, 3), activation = 'relu', padding = 'same')(X)\n",
    "X = MaxPooling2D((2, 2), padding = 'same')(X)\n",
    "X = Conv2D(8, (3, 3), activation = 'relu', padding = 'same')(X)\n",
    "X = MaxPooling2D((2, 2), padding = 'same')(X)\n",
    "# decoder\n",
    "X = Conv2D(8, (3, 3), activation = 'relu', padding = 'same')(X)\n",
    "X = UpSampling2D((2, 2))(X)\n",
    "X = Conv2D(8, (3, 3), activation = 'relu', padding = 'same')(X)\n",
    "X = UpSampling2D((2, 2))(X)\n",
    "X = Conv2D(16, (3, 3), activation = 'relu', padding = 'valid')(X)\n",
    "X = UpSampling2D((2, 2))(X)\n",
    "X = Conv2D(1, (3, 3), activation = 'sigmoid', padding = 'same')(X)"
   ]
  },
  {
   "cell_type": "code",
   "execution_count": null,
   "metadata": {},
   "outputs": [],
   "source": [
    "autoencoder = Model(input_img, X)\n",
    "autoencoder.compile(optimizer = 'adam', loss = 'binary_crossentropy')"
   ]
  },
  {
   "cell_type": "code",
   "execution_count": null,
   "metadata": {},
   "outputs": [],
   "source": [
    "(X_train, _), (X_test, _) = mnist.load_data()\n",
    "\n",
    "X_train = X_train.astype('float32') / 255\n",
    "X_test = X_test.astype('float32') / 255\n",
    "\n",
    "X_train = np.reshape(X_train, (len(X_train), 28, 28, 1))\n",
    "X_test = np.reshape(X_test, (len(X_test), 28, 28, 1))"
   ]
  },
  {
   "cell_type": "code",
   "execution_count": null,
   "metadata": {},
   "outputs": [],
   "source": [
    "autoencoder.fit(X_train, X_train,\n",
    "                epochs = 50,\n",
    "                batch_size = 128,\n",
    "                shuffle = True,\n",
    "                validation_data = (X_test, X_test),\n",
    "                callbacks=[TensorBoard(log_dir = '/tmp/autoencoder')])\n",
    "\n",
    "# tensorboard --logdir=/tmp/autoencoder"
   ]
  },
  {
   "cell_type": "code",
   "execution_count": null,
   "metadata": {},
   "outputs": [],
   "source": [
    "decoded_imgs = autoencoder.predict(X_test)\n",
    "\n",
    "n = 10\n",
    "plt.figure()\n",
    "for i in range(n):\n",
    "    plt.subplot(2, n, i + 1)\n",
    "    plt.imshow(X_test[i].reshape(28, 28))\n",
    "    plt.gray()\n",
    "    plt.subplot(2, n, i + n + 1)\n",
    "    plt.imshow(decoded_imgs[i].reshape(28, 28))\n",
    "    plt.gray()\n",
    "\n",
    "plt.show()"
   ]
  }
 ],
 "metadata": {
  "kernelspec": {
   "display_name": "Python (deeplearning)",
   "language": "python",
   "name": "deeplearning"
  },
  "language_info": {
   "codemirror_mode": {
    "name": "ipython",
    "version": 3
   },
   "file_extension": ".py",
   "mimetype": "text/x-python",
   "name": "python",
   "nbconvert_exporter": "python",
   "pygments_lexer": "ipython3",
   "version": "3.5.4"
  }
 },
 "nbformat": 4,
 "nbformat_minor": 2
}
